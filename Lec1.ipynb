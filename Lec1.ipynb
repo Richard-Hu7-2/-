{
 "cells": [
  {
   "cell_type": "markdown",
   "metadata": {},
   "source": [
    "### Python Tutorial for Fintech    **1**"
   ]
  },
  {
   "cell_type": "markdown",
   "metadata": {},
   "source": [
    "* **Part 1: About Python**\n",
    "  \n",
    "  - What is Python?\n",
    "    - Guido van Rossum and Monty Python -- \"Monty Python's Flying Circus\"\n",
    "    - Interpreted Language (opposed to Compiled languages)\n",
    "  - What can Python do?\n",
    "    - Almost everything except giving you a baby -- Data Analysis, Web Spider, Office Automation ...\n",
    "  - Why python?\n",
    "    - Easy to read, pick up and integrate with other languages, Active community and Massive libraries\n",
    "    - Everybody is using Python!\n",
    "  - What is the difference between C++ and Python?\n",
    "    - Compiled language VS. Interpreted language\n",
    "    - Curly bracket VS. Indentation\n",
    "    - Specified VS. Unspecified variable type"
   ]
  },
  {
   "cell_type": "code",
   "execution_count": 5,
   "metadata": {},
   "outputs": [
    {
     "name": "stdout",
     "output_type": "stream",
     "text": [
      "[2, 3, 5, 7, 11, 13, 17, 19, 23, 29, 31, 37, 41, 43, 47, 53, 59, 61, 67, 71, 73, 79, 83, 89, 97]\n"
     ]
    }
   ],
   "source": [
    "# An example of Python code\n",
    "import math \n",
    "\n",
    "ans = [2,]\n",
    "for i in range(3,101,2):\n",
    "    flag = False\n",
    "    for j in range(3,math.ceil(math.sqrt(i))+1):\n",
    "        if i % j == 0:\n",
    "            flag = True\n",
    "            break\n",
    "    if not flag:\n",
    "        ans.append(i)        \n",
    "\n",
    "print(ans)"
   ]
  },
  {
   "cell_type": "markdown",
   "metadata": {},
   "source": [
    "# An example of CPP code\n",
    "```cpp\n",
    "#include<iostream>\n",
    "#include<math.h>\n",
    "using namespace std;\n",
    "\n",
    "void main(){\n",
    "\n",
    "    int ans[26];\n",
    "    ans[0] = 2;\n",
    "    int idx = 1;\n",
    "    for(int i=3;i<=100;i+=2){\n",
    "        int flag = 0;\n",
    "        for(int j=3;j<=sqrt(i)+1;j+=2){\n",
    "            if(i % j == 0){\n",
    "                flag = 1;\n",
    "                break;\n",
    "            }\n",
    "        }\n",
    "        if(!flag){\n",
    "            ans[idx] = i;\n",
    "            idx ++;\n",
    "        }\n",
    "    }\n",
    "\n",
    "    for(int i=0;i<idx;i++)\n",
    "        cout << ans[i] << ' ';\n",
    "\n",
    "    return 0;\n",
    "}```"
   ]
  },
  {
   "cell_type": "markdown",
   "metadata": {},
   "source": [
    "### **Part 2:How to learn Python**\n",
    "\n",
    "\n",
    "  * $Algorithms + Data Structures = Programs$ -- Niklaus Wirth\n",
    "  * So,\n",
    "    * Step 1 : Understand the basic data structures in Python\n",
    "    * Step 2 : Know how to control the process in Python \n",
    "    * Step 3 : Try to master a few tricks in Python"
   ]
  },
  {
   "cell_type": "markdown",
   "metadata": {},
   "source": [
    "### **Part 3 : Basic Data Strutures**\n",
    "* int, float, bool, str\n",
    "* list, dict, tuple"
   ]
  },
  {
   "cell_type": "code",
   "execution_count": 16,
   "metadata": {},
   "outputs": [
    {
     "name": "stdout",
     "output_type": "stream",
     "text": [
      "a*2:\t 4\n",
      "a-b:\t 0.5\n",
      "a//b:\t 1.0\n",
      "a/b:\t 1.3333333333333333\n",
      "a%b:\t 0.5\n",
      "a**b:\t 2.8284271247461903\n"
     ]
    }
   ],
   "source": [
    "# int float and arithmetic\n",
    "a = 2\n",
    "b = 1.5 \n",
    "\n",
    "\n",
    "print(\"a*2:\\t\",a*2)  #加法\n",
    "\n",
    "print(\"a-b:\\t\",a-b) # 减法\n",
    "\n",
    "print(\"a//b:\\t\",a//b) # 整数除法\n",
    "print(\"a/b:\\t\",(a/b)) # 一般除法\n",
    "\n",
    "print(\"a%b:\\t\",a%b) # 求余\n",
    "\n",
    "print(\"a**b:\\t\",a**b) # 幂"
   ]
  },
  {
   "cell_type": "code",
   "execution_count": 21,
   "metadata": {},
   "outputs": [
    {
     "name": "stdout",
     "output_type": "stream",
     "text": [
      "153\"258\" 153\"258\"\n",
      "\n",
      " This is a doc. for func merge...\n",
      "blabla\n",
      "blabla\n",
      "\n",
      "114514\n",
      "114114\n"
     ]
    }
   ],
   "source": [
    "# str \n",
    "a = '114'\n",
    "b = \"514\"\n",
    "\n",
    "# 关于引号\n",
    "c = '153\"258\"'\n",
    "d = \"153\\\"258\\\"\"  # 转义符 \\\n",
    "print(c,d)\n",
    "\n",
    "s = \"\"\"This is a doc. for func merge...\n",
    "blabla\n",
    "blabla\n",
    "\"\"\"\n",
    "print('\\n',s)\n",
    "\n",
    "\n",
    "# 字符串操作\n",
    "print(a+b)\n",
    "print(a*2)"
   ]
  },
  {
   "cell_type": "code",
   "execution_count": 24,
   "metadata": {},
   "outputs": [
    {
     "name": "stdout",
     "output_type": "stream",
     "text": [
      "False\n",
      "True\n",
      "False\n"
     ]
    }
   ],
   "source": [
    "# bool\n",
    "a = True\n",
    "b = False\n",
    "\n",
    "print(a and b) # &&  ||  !\n",
    "print(b or a)\n",
    "print(not a)"
   ]
  },
  {
   "cell_type": "code",
   "execution_count": 6,
   "metadata": {},
   "outputs": [
    {
     "name": "stdout",
     "output_type": "stream",
     "text": [
      "6 is not in di\n"
     ]
    }
   ],
   "source": [
    "di = {'a':[1,2,3,4],5:'str'}\n",
    "if di.get(6) == None:\n",
    "    print('6 is not in di')"
   ]
  },
  {
   "cell_type": "code",
   "execution_count": 22,
   "metadata": {},
   "outputs": [],
   "source": [
    "# list [], dict {}, tuple () X元组\n",
    "\n",
    "# 增删查改\n",
    "# 相关语法糖"
   ]
  },
  {
   "cell_type": "code",
   "execution_count": 5,
   "metadata": {},
   "outputs": [
    {
     "name": "stdout",
     "output_type": "stream",
     "text": [
      "[1, 2, 's', 'd', True]\n",
      "[1, 's', 'd', True]\n",
      "[1, 's', True]\n",
      "1\n",
      "[1, 'x', True]\n"
     ]
    }
   ],
   "source": [
    "li = [1,2,'s','d'] #instance\n",
    "\n",
    "# 增，尾插入\n",
    "li.append(True) #缀\n",
    "print(li)\n",
    "\n",
    "# 删\n",
    "del li[1] #indexing \n",
    "print(li)\n",
    "\n",
    "del li[-2]\n",
    "print(li)\n",
    "\n",
    "# 查\n",
    "print(li.index('s'))\n",
    "\n",
    "# 改\n",
    "li[1] = 'x'\n",
    "print(li)"
   ]
  },
  {
   "cell_type": "code",
   "execution_count": 8,
   "metadata": {},
   "outputs": [
    {
     "name": "stdout",
     "output_type": "stream",
     "text": [
      "(1, 2, 's', 'd')\n",
      "(1, 2, 3, 4)\n",
      "<class 'tuple'>\n",
      "2 1\n"
     ]
    }
   ],
   "source": [
    "tp = (1,2,'s','d')\n",
    "print(tp)\n",
    "\n",
    "tp = 1,2,3,4\n",
    "print(tp)\n",
    "\n",
    "tp = (1,)\n",
    "print(type(tp))\n",
    "\n",
    "a = 1\n",
    "b = 2\n",
    "\n",
    "a,b = b,a\n",
    "print(a,b)"
   ]
  },
  {
   "cell_type": "code",
   "execution_count": 15,
   "metadata": {},
   "outputs": [
    {
     "name": "stdout",
     "output_type": "stream",
     "text": [
      "{1: 's', 'x': 2}\n",
      "{1: 's', 'x': 2, 3: 'w'}\n",
      "{1: 'sss', 'x': 2, 3: 'w'}\n",
      "{1: 'sss', 3: 'w'}\n",
      "0\n"
     ]
    },
    {
     "data": {
      "text/plain": [
       "['sss', 'w']"
      ]
     },
     "execution_count": 15,
     "metadata": {},
     "output_type": "execute_result"
    }
   ],
   "source": [
    "# dict  keys : values\n",
    "di = {1:'s','x':2}\n",
    "print(di)\n",
    "\n",
    "# 增\n",
    "di[3] = 'w'\n",
    "print(di)\n",
    "\n",
    "# 修改\n",
    "di[1] = 'sss'\n",
    "print(di)\n",
    "\n",
    "del di['x']\n",
    "print(di)\n",
    "\n",
    "\n",
    "# 查\n",
    "print(di.get(4,0))\n",
    "\n",
    "list(di.values())"
   ]
  },
  {
   "cell_type": "markdown",
   "metadata": {},
   "source": [
    "##### **Part 4 : Control process**"
   ]
  },
  {
   "cell_type": "code",
   "execution_count": 3,
   "metadata": {},
   "outputs": [
    {
     "name": "stdout",
     "output_type": "stream",
     "text": [
      "0\n",
      "1\n",
      "2\n",
      "3\n",
      "4\n",
      "5\n",
      "6\n",
      "7\n",
      "8\n",
      "9\n",
      "10\n"
     ]
    }
   ],
   "source": [
    "# 循环\n",
    "condition = (1==2)\n",
    "\n",
    "idx = 0\n",
    "while (not condition):\n",
    "    if idx<10:\n",
    "        print(idx) \n",
    "        idx += 1\n",
    "        continue\n",
    "    else:\n",
    "        print(idx)\n",
    "        break\n",
    "    idx += 10\n",
    "    print(\"if-else finish\")\n"
   ]
  },
  {
   "cell_type": "code",
   "execution_count": null,
   "metadata": {},
   "outputs": [],
   "source": [
    "for i in range(10):\n",
    "    print(i)"
   ]
  },
  {
   "cell_type": "code",
   "execution_count": 68,
   "metadata": {},
   "outputs": [
    {
     "name": "stdout",
     "output_type": "stream",
     "text": [
      "Right\n"
     ]
    }
   ],
   "source": [
    "# 条件\n",
    "if condition:\n",
    "    print('Wrong')\n",
    "elif not condition:\n",
    "    print(\"Right\")\n",
    "else:\n",
    "    print('There is something wrong in your code')\n"
   ]
  },
  {
   "cell_type": "markdown",
   "metadata": {},
   "source": [
    "##### **Part 5 : Function**\n",
    "* normal func\n",
    "* lambda func"
   ]
  },
  {
   "cell_type": "code",
   "execution_count": 29,
   "metadata": {},
   "outputs": [
    {
     "data": {
      "text/plain": [
       "-7"
      ]
     },
     "execution_count": 29,
     "metadata": {},
     "output_type": "execute_result"
    }
   ],
   "source": [
    "def func(value, color='y', size=34):\n",
    "    return a-b\n",
    "\n",
    "# C Version\n",
    "#int func(int a, int b){\n",
    "#    return a+b\n",
    "#}"
   ]
  },
  {
   "cell_type": "code",
   "execution_count": 72,
   "metadata": {},
   "outputs": [
    {
     "data": {
      "text/plain": [
       "3"
      ]
     },
     "execution_count": 72,
     "metadata": {},
     "output_type": "execute_result"
    }
   ],
   "source": [
    "tap = lambda x,y : x+y\n",
    "\n",
    "tap(1,2)"
   ]
  },
  {
   "cell_type": "code",
   "execution_count": 8,
   "metadata": {},
   "outputs": [
    {
     "name": "stdout",
     "output_type": "stream",
     "text": [
      "[0, 1, 2, 3, 4, 5]\n",
      "[2, 3, 4, 5]\n",
      "[2, 3, 4, 5]\n"
     ]
    }
   ],
   "source": [
    "print(list(range(6)))\n",
    "\n",
    "print(list(range(2,6)))\n",
    "\n",
    "print(list(range(2,6,1)))"
   ]
  },
  {
   "cell_type": "markdown",
   "metadata": {},
   "source": [
    "##### **Part 6 : Grammar Sugar and popular built-in func**"
   ]
  },
  {
   "cell_type": "code",
   "execution_count": 12,
   "metadata": {},
   "outputs": [
    {
     "data": {
      "text/plain": [
       "'jhgfdsa'"
      ]
     },
     "execution_count": 12,
     "metadata": {},
     "output_type": "execute_result"
    }
   ],
   "source": [
    "# 切片\n",
    "s = 'asdfghj'\n",
    "s[::] # begin:end:step ,and \"end\" will not be included"
   ]
  },
  {
   "cell_type": "code",
   "execution_count": 20,
   "metadata": {},
   "outputs": [
    {
     "data": {
      "text/plain": [
       "[8, 7, 2022]"
      ]
     },
     "execution_count": 20,
     "metadata": {},
     "output_type": "execute_result"
    }
   ],
   "source": [
    "date = '08/07/2022'\n",
    "\n",
    "int_date = []\n",
    "for i in date.split('/'):\n",
    "    int_date.append(int(i))\n",
    "int_date"
   ]
  },
  {
   "cell_type": "code",
   "execution_count": null,
   "metadata": {},
   "outputs": [],
   "source": [
    "# mulitiple format of date\n",
    "\n",
    "# 08/07/2022\n",
    "\n",
    "# 8/7/2022\n",
    "\n",
    "# 20220807"
   ]
  },
  {
   "cell_type": "code",
   "execution_count": 95,
   "metadata": {},
   "outputs": [
    {
     "data": {
      "text/plain": [
       "['01', '02', '03', '04', '05', '06', '07', '08', '09', '10', '11', '12']"
      ]
     },
     "execution_count": 95,
     "metadata": {},
     "output_type": "execute_result"
    }
   ],
   "source": [
    "a = [1,2,3,4,5,6,7,8,9,10,11,12]  # -> 01 02 03 04 05 06 07 .. 12\n",
    "\n",
    "def trans(i):\n",
    "    i = str(i)\n",
    "    if len(i) == 1:\n",
    "        return '0'+i\n",
    "    return i\n",
    "\n",
    "list(map(trans,a))"
   ]
  },
  {
   "cell_type": "code",
   "execution_count": 92,
   "metadata": {},
   "outputs": [],
   "source": [
    "a = list(map(lambda x:('0'+str(x))[-2:],a))"
   ]
  },
  {
   "cell_type": "code",
   "execution_count": 91,
   "metadata": {},
   "outputs": [
    {
     "name": "stdout",
     "output_type": "stream",
     "text": [
      "['Jan', 'Feb', 'Mar', 'Apr ', 'May', 'Jun', 'Jul', 'Aug', 'Sept', 'Oct', 'Nov', 'Dec']\n",
      "Jan,Feb,Mar,Apr ,May,Jun,Jul,Aug,Sept,Oct,Nov,Dec\n",
      "Jan、Feb、Mar、Apr 、May、Jun、Jul、Aug、Sept、Oct、Nov、Dec\n"
     ]
    }
   ],
   "source": [
    "s = 'Jan、Feb、Mar、Apr 、May、Jun、Jul、Aug、Sept、Oct、Nov、Dec'\n",
    "print(s.split('、'))\n",
    "print(s.replace('、',','))\n",
    "print('、'.join(s.split('、')))\n",
    "\n",
    "s = s.split('、')"
   ]
  },
  {
   "cell_type": "code",
   "execution_count": 94,
   "metadata": {},
   "outputs": [
    {
     "name": "stdout",
     "output_type": "stream",
     "text": [
      "{'Jan.': '01', 'Feb.': '02', 'Mar.': '03', 'Apr .': '04', 'May.': '05', 'Jun.': '06', 'Jul.': '07', 'Aug.': '08', 'Sept.': '09', 'Oct.': '10', 'Nov.': '11', 'Dec.': '12'}\n"
     ]
    }
   ],
   "source": [
    "month_map = {}\n",
    "for i in range(len(a)):\n",
    "    month_map[s[i]+'.'] = a[i]\n",
    "\n",
    "print(month_map)"
   ]
  },
  {
   "cell_type": "code",
   "execution_count": 97,
   "metadata": {},
   "outputs": [
    {
     "data": {
      "text/plain": [
       "['01', '02', '03', '04', '05', '06', '07', '08', '09', '10', '11', '12']"
      ]
     },
     "execution_count": 97,
     "metadata": {},
     "output_type": "execute_result"
    }
   ],
   "source": [
    "['0'+str(x) for x in a if x<10] + [str(x) for x in a if x>=10]"
   ]
  },
  {
   "cell_type": "code",
   "execution_count": 103,
   "metadata": {},
   "outputs": [],
   "source": [
    "month_map = {x:'0'+str(y) for x,y in list(zip(s,a))}"
   ]
  },
  {
   "cell_type": "code",
   "execution_count": 108,
   "metadata": {},
   "outputs": [
    {
     "data": {
      "text/plain": [
       "[('Sept', '09'),\n",
       " ('Oct', '010'),\n",
       " ('Nov', '011'),\n",
       " ('May', '05'),\n",
       " ('Mar', '03'),\n",
       " ('Jun', '06'),\n",
       " ('Jul', '07'),\n",
       " ('Jan', '01'),\n",
       " ('Feb', '02'),\n",
       " ('Dec', '012'),\n",
       " ('Aug', '08'),\n",
       " ('Apr ', '04')]"
      ]
     },
     "execution_count": 108,
     "metadata": {},
     "output_type": "execute_result"
    }
   ],
   "source": [
    "sorted(month_map.items(),key=lambda x:x[0],reverse=True)"
   ]
  },
  {
   "cell_type": "code",
   "execution_count": 106,
   "metadata": {},
   "outputs": [
    {
     "data": {
      "text/plain": [
       "[('Jan', '01'),\n",
       " ('Feb', '02'),\n",
       " ('Mar', '03'),\n",
       " ('Apr ', '04'),\n",
       " ('May', '05'),\n",
       " ('Jun', '06'),\n",
       " ('Jul', '07'),\n",
       " ('Aug', '08'),\n",
       " ('Sept', '09'),\n",
       " ('Oct', '010'),\n",
       " ('Nov', '011'),\n",
       " ('Dec', '012')]"
      ]
     },
     "execution_count": 106,
     "metadata": {},
     "output_type": "execute_result"
    }
   ],
   "source": [
    "list(month_map.items())"
   ]
  },
  {
   "cell_type": "code",
   "execution_count": 109,
   "metadata": {},
   "outputs": [
    {
     "name": "stdout",
     "output_type": "stream",
     "text": [
      "asdgh\n"
     ]
    }
   ],
   "source": [
    "s = 'asdgh'\n",
    "def tp(s):\n",
    "    s = s[:-2]\n",
    "    return \n",
    "\n",
    "tp(s)\n",
    "print(s)"
   ]
  },
  {
   "cell_type": "code",
   "execution_count": 111,
   "metadata": {},
   "outputs": [
    {
     "name": "stdout",
     "output_type": "stream",
     "text": [
      "['a', 's', 'd', 'g', 'h', 'k']\n"
     ]
    }
   ],
   "source": [
    "s = list('asdgh')\n",
    "def tp(s): \n",
    "    s.append('k')\n",
    "    return \n",
    "\n",
    "tp(s)\n",
    "print(s)"
   ]
  },
  {
   "cell_type": "markdown",
   "metadata": {},
   "source": [
    "### Practice"
   ]
  },
  {
   "cell_type": "code",
   "execution_count": 12,
   "metadata": {},
   "outputs": [],
   "source": [
    "# 字符串操作\n",
    "s = 'Everyone in the web development community knows that Python applications are now becoming mainstream. The programming language is now one of the most popular ever and continues to mark its presence in different industries.The plethora of Python programming uses are proof why it is now a dominating programming language amongst developers. From web development to machine learning, the applications of Python are increasing every day.'\n",
    "\n",
    "# 分割\n",
    "s = s.split()"
   ]
  },
  {
   "cell_type": "code",
   "execution_count": 18,
   "metadata": {},
   "outputs": [],
   "source": [
    "# 词频统计\n",
    "WordCount = {}\n",
    "for i in s:\n",
    "    #if WordCount.get(i) == None:\n",
    "    #    WordCount[i] = 1\n",
    "    #else:\n",
    "    #    WordCount[i] += 1\n",
    "    WordCount[i] = WordCount.get(i,0) + 1\n"
   ]
  },
  {
   "cell_type": "code",
   "execution_count": 32,
   "metadata": {},
   "outputs": [
    {
     "data": {
      "text/plain": [
       "[('the', 3),\n",
       " ('programming', 3),\n",
       " ('of', 3),\n",
       " ('now', 3),\n",
       " ('are', 3),\n",
       " ('Python', 3),\n",
       " ('web', 2),\n",
       " ('to', 2),\n",
       " ('language', 2),\n",
       " ('is', 2),\n",
       " ('in', 2),\n",
       " ('development', 2),\n",
       " ('applications', 2),\n",
       " ('why', 1),\n",
       " ('uses', 1),\n",
       " ('that', 1),\n",
       " ('proof', 1),\n",
       " ('presence', 1),\n",
       " ('popular', 1),\n",
       " ('plethora', 1),\n",
       " ('one', 1),\n",
       " ('most', 1),\n",
       " ('mark', 1),\n",
       " ('mainstream.', 1),\n",
       " ('machine', 1),\n",
       " ('learning,', 1),\n",
       " ('knows', 1),\n",
       " ('its', 1),\n",
       " ('it', 1),\n",
       " ('industries.The', 1),\n",
       " ('increasing', 1),\n",
       " ('every', 1),\n",
       " ('ever', 1),\n",
       " ('dominating', 1),\n",
       " ('different', 1),\n",
       " ('developers.', 1),\n",
       " ('day.', 1),\n",
       " ('continues', 1),\n",
       " ('community', 1),\n",
       " ('becoming', 1),\n",
       " ('and', 1),\n",
       " ('amongst', 1),\n",
       " ('a', 1),\n",
       " ('The', 1),\n",
       " ('From', 1),\n",
       " ('Everyone', 1)]"
      ]
     },
     "execution_count": 32,
     "metadata": {},
     "output_type": "execute_result"
    }
   ],
   "source": [
    "sorted(WordCount.items(),key=lambda x:(x[1],x[0]),reverse=True)"
   ]
  }
 ],
 "metadata": {
  "kernelspec": {
   "display_name": "Python 3.8.9 64-bit (system)",
   "language": "python",
   "name": "python3"
  },
  "language_info": {
   "codemirror_mode": {
    "name": "ipython",
    "version": 3
   },
   "file_extension": ".py",
   "mimetype": "text/x-python",
   "name": "python",
   "nbconvert_exporter": "python",
   "pygments_lexer": "ipython3",
   "version": "3.8.9"
  },
  "orig_nbformat": 4,
  "vscode": {
   "interpreter": {
    "hash": "1c442f56f513d946697b54b9a37b89914a7453601d4cdab64d33f95287da7f98"
   }
  }
 },
 "nbformat": 4,
 "nbformat_minor": 2
}
