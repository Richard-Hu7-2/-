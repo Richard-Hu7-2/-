{
 "cells": [
  {
   "cell_type": "code",
   "execution_count": 1,
   "metadata": {},
   "outputs": [],
   "source": [
    "import numpy as np\n",
    "import pandas as pd"
   ]
  },
  {
   "attachments": {},
   "cell_type": "markdown",
   "metadata": {},
   "source": [
    "### Multi-Thread in Python"
   ]
  },
  {
   "attachments": {},
   "cell_type": "markdown",
   "metadata": {},
   "source": [
    "### 线程（Thread） 进程（Process）\n",
    "Parallel / Concurrency"
   ]
  },
  {
   "cell_type": "code",
   "execution_count": 2,
   "metadata": {},
   "outputs": [],
   "source": [
    "import time\n",
    "import threading"
   ]
  },
  {
   "attachments": {},
   "cell_type": "markdown",
   "metadata": {},
   "source": [
    "##### What are Decorators"
   ]
  },
  {
   "cell_type": "code",
   "execution_count": 3,
   "metadata": {},
   "outputs": [
    {
     "name": "stdout",
     "output_type": "stream",
     "text": [
      "Impermanence is impotence\n"
     ]
    }
   ],
   "source": [
    "from functools import wraps\n",
    "def SayHumphrey(x):\n",
    "    print(x)\n",
    "\n",
    "SayHumphrey('Impermanence is impotence')"
   ]
  },
  {
   "cell_type": "code",
   "execution_count": 4,
   "metadata": {},
   "outputs": [
    {
     "name": "stdout",
     "output_type": "stream",
     "text": [
      "Impermanence is impotence\n",
      "\t\t\t --- Sir Humphrey\n"
     ]
    }
   ],
   "source": [
    "def wrap(func):\n",
    "    @wraps(func)\n",
    "    def wrapped_func(x):\n",
    "        return_value = func(x)\n",
    "        print('\\t\\t\\t --- Sir Humphrey')\n",
    "        return return_value\n",
    "    return wrapped_func\n",
    "\n",
    "\n",
    "@wrap\n",
    "def SayHumphrey(x):\n",
    "    print(x)\n",
    "\n",
    "SayHumphrey('Impermanence is impotence')"
   ]
  },
  {
   "cell_type": "code",
   "execution_count": 11,
   "metadata": {},
   "outputs": [],
   "source": [
    "def start_end_time(func):\n",
    "    @wraps(func)\n",
    "    def wrapped_func(*args, **kargs):\n",
    "        print(f'{args[0].upper()} start: {time.strftime(\"%Y-%m-%d %H:%M:%S\",time.localtime(time.time()))}')\n",
    "        return_value = func(*args, **kargs)\n",
    "        print(f'{args[0].upper()} end  : {time.strftime(\"%Y-%m-%d %H:%M:%S\",time.localtime(time.time()))}')\n",
    "        return return_value\n",
    "    return wrapped_func\n",
    "\n",
    "\n",
    "@start_end_time\n",
    "def IO_intensive_task(thread_num,n):    \n",
    "    time.sleep(n)    \n",
    "    \n",
    "@start_end_time\n",
    "def CPU_intensive_task(thread_num,n):\n",
    "    ans = np.zeros((500,500,1000))\n",
    "    for _ in range(n):\n",
    "        A = np.ones((500,500,500))\n",
    "        B = np.ones((500,1000))\n",
    "        ans += A@B\n",
    "    return ans"
   ]
  },
  {
   "cell_type": "code",
   "execution_count": 12,
   "metadata": {},
   "outputs": [],
   "source": [
    "thread1 = threading.Thread(name='thread1',target=CPU_intensive_task,args=('thread1',3))\n",
    "thread2 = threading.Thread(name='thread2',target=CPU_intensive_task,args=('thread2',2))"
   ]
  },
  {
   "cell_type": "code",
   "execution_count": 13,
   "metadata": {},
   "outputs": [
    {
     "name": "stdout",
     "output_type": "stream",
     "text": [
      "THREAD1 start: 2023-04-22 14:32:27\n",
      "THREAD2 start: 2023-04-22 14:32:27\n",
      "THREAD2 end  : 2023-04-22 14:32:33\n",
      "THREAD1 end  : 2023-04-22 14:32:36\n",
      "*******\n",
      "CPU times: total: 52.8 s\n",
      "Wall time: 8.95 s\n"
     ]
    }
   ],
   "source": [
    "%%time\n",
    "thread1.start()\n",
    "thread2.start()\n",
    "\n",
    "\n",
    "thread1.join()\n",
    "print('*******')\n",
    "thread2.join()"
   ]
  },
  {
   "cell_type": "code",
   "execution_count": 8,
   "metadata": {},
   "outputs": [
    {
     "name": "stdout",
     "output_type": "stream",
     "text": [
      "THREAD1 start: 2023-04-22 14:27:11\n",
      "THREAD1 end  : 2023-04-22 14:27:16\n",
      "THREAD2 start: 2023-04-22 14:27:16\n",
      "THREAD2 end  : 2023-04-22 14:27:24\n",
      "\n",
      "CPU times: total: 9.33 s\n",
      "Wall time: 12.5 s\n"
     ]
    }
   ],
   "source": [
    "%%time\n",
    "\n",
    "CPU_intensive_task('thread1',2)\n",
    "CPU_intensive_task('thread2',3)\n",
    "print('')"
   ]
  },
  {
   "cell_type": "code",
   "execution_count": 14,
   "metadata": {},
   "outputs": [],
   "source": [
    "thread3 = threading.Thread(name='thread3',target=IO_intensive_task,args=('thread3',2))\n",
    "thread4 = threading.Thread(name='thread4',target=IO_intensive_task,args=('thread4',3))"
   ]
  },
  {
   "cell_type": "code",
   "execution_count": 15,
   "metadata": {},
   "outputs": [
    {
     "name": "stdout",
     "output_type": "stream",
     "text": [
      "THREAD3 start: 2023-04-22 14:36:29\n",
      "THREAD4 start: 2023-04-22 14:36:29\n",
      "THREAD3 end  : 2023-04-22 14:36:31\n",
      "THREAD4 end  : 2023-04-22 14:36:32\n",
      "CPU times: total: 0 ns\n",
      "Wall time: 3.01 s\n"
     ]
    }
   ],
   "source": [
    "%%time\n",
    "thread3.start()\n",
    "thread4.start()\n",
    "\n",
    "\n",
    "thread3.join()\n",
    "thread4.join()"
   ]
  },
  {
   "cell_type": "code",
   "execution_count": 16,
   "metadata": {},
   "outputs": [
    {
     "name": "stdout",
     "output_type": "stream",
     "text": [
      "THREAD3 start: 2023-04-22 14:36:57\n",
      "THREAD3 end  : 2023-04-22 14:36:59\n",
      "THREAD4 start: 2023-04-22 14:36:59\n",
      "THREAD4 end  : 2023-04-22 14:37:02\n",
      "\n",
      "CPU times: total: 0 ns\n",
      "Wall time: 5.01 s\n"
     ]
    }
   ],
   "source": [
    "%%time\n",
    "\n",
    "IO_intensive_task('thread3',2)\n",
    "IO_intensive_task('thread4',3)\n",
    "print('')"
   ]
  },
  {
   "attachments": {},
   "cell_type": "markdown",
   "metadata": {},
   "source": [
    "#### Lock"
   ]
  },
  {
   "cell_type": "code",
   "execution_count": 22,
   "metadata": {},
   "outputs": [],
   "source": [
    "dict_withoutLock = {'Hrq':87}\n",
    "\n",
    "def read_write(name,di):\n",
    "    time.sleep(abs(np.random.rand())*2)\n",
    "\n",
    "    scores = di['Hrq']\n",
    "    print(f'{name} : Hrq\\'s score is {scores}\\t\\t\\t\\t{time.strftime(\"%Y-%m-%d %H:%M:%S\",time.localtime(time.time()))}')\n",
    "    time.sleep(abs(np.random.rand()))\n",
    "    ds = np.random.randint(-5,5)\n",
    "    print(f'{name} : Add {ds} point to him\\t\\t\\t\\t{time.strftime(\"%Y-%m-%d %H:%M:%S\",time.localtime(time.time()))}')\n",
    "    tp = scores + ds\n",
    "    di['Hrq'] = tp\n",
    "    print(f'{name} : Now Hrq\\'s score is {tp}\\t\\t\\t\\t{time.strftime(\"%Y-%m-%d %H:%M:%S\",time.localtime(time.time()))}')"
   ]
  },
  {
   "cell_type": "code",
   "execution_count": 23,
   "metadata": {},
   "outputs": [],
   "source": [
    "# person1 = threading.Thread(target=read_write,args=('person1',dict_withoutLock))\n",
    "# person2 = threading.Thread(target=read_write,args=('person2',dict_withoutLock))\n",
    "# person3 = threading.Thread(target=read_write,args=('person3',dict_withoutLock))\n",
    "\n",
    "persons = [threading.Thread(target=read_write,args=('person'+str(x),dict_withoutLock)) for x in range(1,3+1)]"
   ]
  },
  {
   "cell_type": "code",
   "execution_count": 24,
   "metadata": {},
   "outputs": [
    {
     "data": {
      "text/plain": [
       "[None, None, None]"
      ]
     },
     "execution_count": 24,
     "metadata": {},
     "output_type": "execute_result"
    },
    {
     "name": "stdout",
     "output_type": "stream",
     "text": [
      "person3 : Hrq's score is 87\t\t\t\t2023-04-22 14:40:24\n",
      "person3 : Add 3 point to him\t\t\t\t2023-04-22 14:40:24\n",
      "person3 : Now Hrq's score is 90\t\t\t\t2023-04-22 14:40:24\n",
      "person1 : Hrq's score is 90\t\t\t\t2023-04-22 14:40:24\n",
      "person2 : Hrq's score is 90\t\t\t\t2023-04-22 14:40:25\n",
      "person2 : Add -2 point to him\t\t\t\t2023-04-22 14:40:25\n",
      "person2 : Now Hrq's score is 88\t\t\t\t2023-04-22 14:40:25\n",
      "person1 : Add 2 point to him\t\t\t\t2023-04-22 14:40:25\n",
      "person1 : Now Hrq's score is 92\t\t\t\t2023-04-22 14:40:25\n"
     ]
    }
   ],
   "source": [
    "[person.start() for person in persons]"
   ]
  },
  {
   "cell_type": "code",
   "execution_count": null,
   "metadata": {},
   "outputs": [],
   "source": [
    "lock = threading.Lock()\n",
    "\n",
    "dict_withoutLock = {'Hrq':87}\n",
    "\n",
    "def read_write(name,di):\n",
    "    time.sleep(abs(np.random.rand())*2)\n",
    "\n",
    "    lock.acquire()\n",
    "    scores = di['Hrq']\n",
    "    lock.release()\n",
    "\n",
    "    print(f'{name} : Hrq\\'s score is {scores}\\t\\t\\t\\t{time.strftime(\"%Y-%m-%d %H:%M:%S\",time.localtime(time.time()))}')\n",
    "    time.sleep(abs(np.random.rand()))\n",
    "    ds = np.random.randint(-5,5)\n",
    "    print(f'{name} : Add {ds} point to him\\t\\t\\t\\t{time.strftime(\"%Y-%m-%d %H:%M:%S\",time.localtime(time.time()))}')\n",
    "    tp = scores + ds\n",
    "    di['Hrq'] = tp\n",
    "    # lock.release()\n",
    "    \n",
    "    print(f'{name} : Now Hrq\\'s score is {tp}\\t\\t\\t\\t{time.strftime(\"%Y-%m-%d %H:%M:%S\",time.localtime(time.time()))}')"
   ]
  }
 ],
 "metadata": {
  "kernelspec": {
   "display_name": "Python 3",
   "language": "python",
   "name": "python3"
  },
  "language_info": {
   "codemirror_mode": {
    "name": "ipython",
    "version": 3
   },
   "file_extension": ".py",
   "mimetype": "text/x-python",
   "name": "python",
   "nbconvert_exporter": "python",
   "pygments_lexer": "ipython3",
   "version": "3.8.9"
  },
  "orig_nbformat": 4
 },
 "nbformat": 4,
 "nbformat_minor": 2
}
