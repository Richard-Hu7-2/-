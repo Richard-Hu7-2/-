{
 "cells": [
  {
   "cell_type": "code",
   "execution_count": 2,
   "metadata": {},
   "outputs": [],
   "source": [
    "import numpy as np\n",
    "import pandas as pd\n",
    "import statsmodels.api as sm"
   ]
  },
  {
   "cell_type": "markdown",
   "metadata": {},
   "source": [
    "##### Replicating Liu et al 2019"
   ]
  },
  {
   "cell_type": "code",
   "execution_count": 62,
   "metadata": {},
   "outputs": [],
   "source": [
    "data = pd.read_pickle('/mnt/BigDisk18T/Hrq/working/Liu_2019/monthly_dataset.pkl')  # Data from Wind\n",
    "\n",
    "data['tot_shr'] = data['tot_shr'] * data['price']\n",
    "data['mktcap_lastm'] = data.groupby(['stkcd'])['tot_shr'].shift(1)\n",
    "\n",
    "\n",
    "data['lg_ret'] = np.log(1+data['ret'])\n",
    "data['pre12-month reversal'] = (np.exp(data.groupby(['stkcd'])['lg_ret'].rolling(12,min_periods=1).sum())-1).reset_index(level=0)['lg_ret']\n",
    "data['pre12-month reversal'] = data.groupby(['stkcd'])['pre12-month reversal'].shift(1)\n",
    "\n",
    "data['pre1-month reversal'] = data.groupby(['stkcd'])['ret'].shift(1)\n",
    "data.drop(columns=['lg_ret'],inplace=True)\n",
    "\n",
    "\n",
    "\n",
    "# filter\n",
    "# no new stock\n",
    "data['listdt'] = data['listdt'] // 100\n",
    "\n",
    "\n",
    "# least trading day constraint\n",
    "data['past12month_trddate'] = data.groupby(['stkcd'])['num_day'].rolling(12,min_periods = 1).sum().reset_index(level=0)['num_day']\n",
    "data['past12month_trddate'] = data.groupby(['stkcd'])['past12month_trddate'].shift(1)\n",
    "data['past1month_trddate'] = data.groupby(['stkcd'])['num_day'].shift(1)\n",
    "\n",
    "\n",
    "data = data[((data['month'] - data['listdt'])>=6)].copy()\n",
    "data = data[(data['past12month_trddate']>=120) ].copy()  #& (data['past1month_trddate']>=15)\n",
    "data = data[((data['stkcd']//10000).isin([0,30,60])) & (data['month']>=199801) & (data['month']<=202201)].copy()\n",
    "\n",
    "# drop smallest 30p\n",
    "tp = data.groupby(['month'])['mktcap_lastm'].quantile(0.3).reset_index()\n",
    "tp.columns = ['month','smallest30p']\n",
    "\n",
    "data = pd.merge(data,tp,on=['month'],how='left')\n",
    "del tp\n",
    "data = data[(data['mktcap_lastm'] >= data['smallest30p'])].copy()\n",
    "\n",
    "\n",
    "data.drop(columns=['past12month_trddate','past1month_trddate','smallest30p'],inplace=True)"
   ]
  },
  {
   "cell_type": "code",
   "execution_count": 66,
   "metadata": {},
   "outputs": [],
   "source": [
    "data['Size'] = data['tot_shr']\n",
    "data['EP'] = data['netprofit'] / data['tot_shr']\n",
    "data['BM'] = data['TOT_SHRHLDR_EQY_EXCL_MIN_INT'] / data['tot_shr']\n",
    "data['CP'] = data['CASH'] / data['tot_shr']\n",
    "data['ROE'] = data['netprofit'] / data['TOT_SHRHLDR_EQY_EXCL_MIN_INT']\n",
    "\n",
    "tp = data[['stkcd','ym','Size','EP','BM','CP','ROE']].copy()\n",
    "tp.columns = ['stkcd','ym','preSize','preEP','preBM','preCP','preROE']\n",
    "tp['ym'] += 1\n",
    "data = pd.merge(data,tp,on=['stkcd','ym'],how='left')\n",
    "del tp"
   ]
  },
  {
   "cell_type": "code",
   "execution_count": 67,
   "metadata": {},
   "outputs": [],
   "source": [
    "# SMB  VMG of ch3\n",
    "\n",
    "tp = data.groupby(['month'])['preSize'].median().reset_index(level=0)\n",
    "tp.columns = ['month','SB']\n",
    "\n",
    "data = pd.merge(data,tp,on=['month'],how='left')\n",
    "del tp\n",
    "\n",
    "\n",
    "tp = data.groupby(['month'])['preEP'].quantile([0.3,0.7]).unstack().reset_index()\n",
    "tp.columns = ['month','G','V']\n",
    "\n",
    "data = pd.merge(data,tp,on=['month'],how='left')\n",
    "del tp\n",
    "\n",
    "\n",
    "data['SB'] = np.where(data['preSize']>=data['SB'],'B','S')\n",
    "data['VG'] = np.where(data['preEP']>=data['V'],'V','M')\n",
    "data['VG'] = np.where(data['preEP']<data['G'],'G',data['VG'])\n",
    "\n",
    "data.loc[data['preSize'].isna(),'SB'] = np.NAN\n",
    "data.loc[data['preEP'].isna(),'VG'] = np.NAN\n",
    "\n",
    "data['type'] = data['SB'] + data['VG']\n",
    "\n",
    "res_rep = data.dropna(subset=['SB','VG']).groupby(['month','type']).apply(lambda x:(x['mktcap_lastm']*x['ret']).sum() / x['mktcap_lastm'].sum()).unstack().loc[200201:]\n",
    "MKT = data.groupby(['month']).apply(lambda x:(x['mktcap_lastm']*x['ret']).sum() / x['mktcap_lastm'].sum()).loc[200201:] *100\n",
    "SMB = ((res_rep['SV'] + res_rep['SM'] + res_rep['SG'])/3 - (res_rep['BG']+res_rep['BM']+res_rep['BV'])/3) * 100\n",
    "VMG = ((res_rep['SV'] + res_rep['BV'])/2 - (res_rep['SG'] + res_rep['BG'])/2) * 100\n",
    "ch3 = pd.read_csv('/mnt/BigDisk18T/Hrq/CH_3_update_20211231.csv')\n",
    "ch3['mnthdt'] = ch3['mnthdt']//100\n",
    "ch3.index = ch3['mnthdt']\n",
    "ch3.drop(columns=['mnthdt'],inplace=True)\n",
    "ch3['MKT_my'] = MKT\n",
    "ch3['SMB_my'] = SMB\n",
    "ch3['VMG_my'] = VMG\n",
    "ch3['MKT_my'] = ch3['MKT_my'] - ch3['rf_mon']\n",
    "ch3.loc[200201:201612].corr()\n"
   ]
  },
  {
   "cell_type": "code",
   "execution_count": null,
   "metadata": {},
   "outputs": [],
   "source": []
  }
 ],
 "metadata": {
  "kernelspec": {
   "display_name": "Python 3.8.12 ('vpy38')",
   "language": "python",
   "name": "python3"
  },
  "language_info": {
   "codemirror_mode": {
    "name": "ipython",
    "version": 3
   },
   "file_extension": ".py",
   "mimetype": "text/x-python",
   "name": "python",
   "nbconvert_exporter": "python",
   "pygments_lexer": "ipython3",
   "version": "3.8.12"
  },
  "orig_nbformat": 4,
  "vscode": {
   "interpreter": {
    "hash": "16869c159bcfad337144d02857935bb582dc44c33ca6689d50337ae86a2add27"
   }
  }
 },
 "nbformat": 4,
 "nbformat_minor": 2
}
