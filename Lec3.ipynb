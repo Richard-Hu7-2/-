{
 "cells": [
  {
   "cell_type": "markdown",
   "metadata": {},
   "source": [
    "#### Pandas for Dataprocessing Sample"
   ]
  },
  {
   "cell_type": "code",
   "execution_count": 1,
   "metadata": {},
   "outputs": [],
   "source": [
    "import os\n",
    "import pandas as pd\n",
    "import numpy as np\n",
    "from scipy import stats\n",
    "import statsmodels.api as sm"
   ]
  },
  {
   "cell_type": "code",
   "execution_count": 2,
   "metadata": {},
   "outputs": [],
   "source": [
    "stock = pd.read_csv(\"D:\\databank\\CSMAR\\TRD_Mnth.csv\")\n",
    "stock = stock[['Stkcd','Trdmnt','Mclsprc','Msmvosd','Msmvttl','Ndaytrd','Mretwd','Mretnd','Markettype']].copy()\n",
    "\n",
    "#### Filters \n",
    "stock = stock[stock['Markettype'].isin([1,4,16,32])].copy() # A share stocks\n",
    "\n",
    "stock = stock[(stock['Trdmnt']>199800) & (stock['Trdmnt']<=202012)].copy()   # Sample Period 2000 - 2020"
   ]
  },
  {
   "cell_type": "code",
   "execution_count": 3,
   "metadata": {},
   "outputs": [],
   "source": [
    "stock['ym'] = stock['Trdmnt'].apply(lambda x:(x//100)*12 + x%100)"
   ]
  },
  {
   "cell_type": "code",
   "execution_count": 4,
   "metadata": {},
   "outputs": [],
   "source": [
    "### 一种补全缺失行的方法\n",
    "\n",
    "ct = pd.DataFrame()\n",
    "stkcd = []\n",
    "ym = []\n",
    "for x in stock.groupby(['Stkcd'])['ym'].agg(['first','last']).itertuples():\n",
    "    ym += list(range(x[1],x[2]+1))\n",
    "    stkcd += [x[0]] * (x[2]-x[1]+1)\n",
    "    \n",
    "ct['Stkcd'] = stkcd\n",
    "ct['ym'] = ym\n",
    "stock = pd.merge(stock,ct,on=['Stkcd','ym'],how='outer')\n",
    "stock.sort_values(by=['Stkcd','ym'],inplace=True)"
   ]
  },
  {
   "cell_type": "code",
   "execution_count": 13,
   "metadata": {},
   "outputs": [],
   "source": [
    "cap = 'Msmvttl'\n",
    "date = 'ym'\n",
    "#stock['cap'] = stock.groupby(['Stkcd'])[cap].shift(1)\n",
    "stock['cap'] = stock[cap]\n",
    "tp = stock.groupby([date])['cap'].quantile(0.1).reset_index() # drop 10% smallest stock \n",
    "tp.columns = [date,'smallest10p']\n",
    "\n",
    "stock = pd.merge(stock,tp,on=[date])\n",
    "stock.loc[stock['cap'] <= stock['smallest10p'],'Dretwd'] = np.nan\n",
    "stock.drop(columns=['smallest10p'],inplace=True)\n",
    "\n",
    "stock.loc[(stock['Mclsprc']<3),'Dretwd'] = np.nan  # drop stock which has price less than 3 ￥\n",
    "\n",
    "\n",
    "stock.sort_values(by=['Stkcd',date],inplace=True)\n",
    "#stock.dropna(subset=['Mretwd'],inplace=True)"
   ]
  },
  {
   "cell_type": "markdown",
   "metadata": {},
   "source": [
    "#### All Sample"
   ]
  },
  {
   "cell_type": "code",
   "execution_count": 6,
   "metadata": {},
   "outputs": [
    {
     "name": "stdout",
     "output_type": "stream",
     "text": [
      "-0.5118742329517177 -1.5058654796374722\n"
     ]
    }
   ],
   "source": [
    "### MOM12\n",
    "\n",
    "stock['Mretwd_lg'] = np.log(stock['Mretwd'] + 1)\n",
    "stock['cumret12'] = (np.exp(stock.groupby(['Stkcd'])['Mretwd_lg'].rolling(11).sum()) - 1).reset_index(level=0)['Mretwd_lg']\n",
    "stock['cumret12_lag'] = stock.groupby(['Stkcd'])['cumret12'].shift(1)\n",
    "\n",
    "stock['cumret_quintile'] = stock.dropna(subset=['cumret12_lag']).groupby([date])['cumret12_lag'].transform(lambda x:pd.qcut(x,5,labels=False))\n",
    "\n",
    "data = stock[(stock[date]>2000*12)].copy()\n",
    "tp = data.groupby([date,'cumret_quintile'])['Mretwd'].mean().reset_index().pivot(index=date,columns='cumret_quintile',values='Mretwd')\n",
    "tp = (tp[4] - tp[0])\n",
    "\n",
    "print(tp.mean()*100, tp.mean() / tp.std() * tp.count() ** 0.5)"
   ]
  },
  {
   "cell_type": "code",
   "execution_count": 7,
   "metadata": {},
   "outputs": [
    {
     "name": "stdout",
     "output_type": "stream",
     "text": [
      "-1.1841864734539431 -4.179920826544981\n"
     ]
    }
   ],
   "source": [
    "### short-term reversal\n",
    "\n",
    "stock['ret_lag'] = stock.groupby(['Stkcd'])['Mretwd'].shift(1)\n",
    "\n",
    "stock['lastret_quintile'] = stock.dropna(subset=['ret_lag']).groupby([date])['ret_lag'].transform(lambda x:pd.qcut(x,5,labels=False))\n",
    "\n",
    "data = stock[(stock[date]>=2000*12)].copy()\n",
    "tp = data.groupby([date,'lastret_quintile'])['Mretwd'].mean().reset_index().pivot(index=date,columns='lastret_quintile',values='Mretwd')\n",
    "tp = (tp[4] - tp[0])\n",
    "\n",
    "print(tp.mean()*100, tp.mean() / tp.std() * tp.count() ** 0.5)"
   ]
  },
  {
   "cell_type": "code",
   "execution_count": null,
   "metadata": {},
   "outputs": [],
   "source": []
  }
 ],
 "metadata": {
  "kernelspec": {
   "display_name": "Python 3.8.9 64-bit",
   "language": "python",
   "name": "python3"
  },
  "language_info": {
   "codemirror_mode": {
    "name": "ipython",
    "version": 3
   },
   "file_extension": ".py",
   "mimetype": "text/x-python",
   "name": "python",
   "nbconvert_exporter": "python",
   "pygments_lexer": "ipython3",
   "version": "3.8.9"
  },
  "orig_nbformat": 4,
  "vscode": {
   "interpreter": {
    "hash": "1c442f56f513d946697b54b9a37b89914a7453601d4cdab64d33f95287da7f98"
   }
  }
 },
 "nbformat": 4,
 "nbformat_minor": 2
}
