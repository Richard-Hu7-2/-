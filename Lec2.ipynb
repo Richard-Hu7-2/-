{
 "cells": [
  {
   "cell_type": "markdown",
   "metadata": {},
   "source": [
    "* Module and Package\n",
    "  * How to see the source codes"
   ]
  },
  {
   "cell_type": "code",
   "execution_count": 5,
   "metadata": {},
   "outputs": [],
   "source": [
    "import numpy as np\n",
    "import pandas as pd\n",
    "from math import sqrt\n",
    "#from math import *"
   ]
  },
  {
   "cell_type": "markdown",
   "metadata": {},
   "source": [
    "* numpy and Ndarray\n",
    "  * Why numpy -- Fast, Standard ...\n",
    "  * composition of a Ndarray: dtype, ndim, shape ... \n",
    "  * indexing and slicing\n",
    "  * calculation and broadcast\n",
    "  * useful functions"
   ]
  },
  {
   "cell_type": "code",
   "execution_count": 13,
   "metadata": {},
   "outputs": [
    {
     "data": {
      "text/plain": [
       "(3,)"
      ]
     },
     "execution_count": 13,
     "metadata": {},
     "output_type": "execute_result"
    }
   ],
   "source": [
    "arr = np.array([1,2,3], dtype=np.float64, ndmin=1)\n",
    "arr.shape"
   ]
  },
  {
   "cell_type": "code",
   "execution_count": 22,
   "metadata": {},
   "outputs": [
    {
     "name": "stdout",
     "output_type": "stream",
     "text": [
      "array1:  [[1. 2. 3.]] \n",
      "\n",
      "\n",
      "array2:  [[[1. 1. 1. 1.]\n",
      "  [1. 1. 1. 1.]\n",
      "  [1. 1. 1. 1.]]\n",
      "\n",
      " [[1. 1. 1. 1.]\n",
      "  [1. 1. 1. 1.]\n",
      "  [1. 1. 1. 1.]]] \n",
      "\n",
      "\n",
      "\n",
      "array3:  [[[ 0  1  2  3]\n",
      "  [ 4  5  6  7]\n",
      "  [ 8  9 10 11]]\n",
      "\n",
      " [[12 13 14 15]\n",
      "  [16 17 18 19]\n",
      "  [20 21 22 23]]]\n"
     ]
    }
   ],
   "source": [
    "# how to create\n",
    "arr = np.array([1,2,3], dtype=np.float64, ndmin=2)\n",
    "print('array1: ',arr,'\\n\\n')\n",
    "\n",
    "\n",
    "# about the dimension \n",
    "# Dimensions from left to right correspond to brackets from outside to inside\n",
    "arr1 = np.ones((2,3,4))\n",
    "print('array2: ',arr1, '\\n\\n\\n')\n",
    "\n",
    "# (1,) != (1,1)    Be careful  \n",
    "\n",
    "arr2 = np.array(range(24)).reshape((2,3,4))\n",
    "print('array3: ', arr2)"
   ]
  },
  {
   "cell_type": "code",
   "execution_count": 23,
   "metadata": {},
   "outputs": [
    {
     "name": "stdout",
     "output_type": "stream",
     "text": [
      "[ 8  9 10 11]\n",
      "[[12 14]\n",
      " [20 22]]\n"
     ]
    },
    {
     "data": {
      "text/plain": [
       "array([15, 16, 17, 18, 19, 20, 21, 22, 23])"
      ]
     },
     "execution_count": 23,
     "metadata": {},
     "output_type": "execute_result"
    }
   ],
   "source": [
    "# Indexing\n",
    "print(arr2[-2,-1])\n",
    "\n",
    "# Slicing\n",
    "print(arr2[-1,::2,::2])\n",
    "\n",
    "# Boolean Slicing\n",
    "arr2[arr2>14]"
   ]
  },
  {
   "cell_type": "code",
   "execution_count": 26,
   "metadata": {},
   "outputs": [
    {
     "name": "stdout",
     "output_type": "stream",
     "text": [
      "[[2. 2. 2.]\n",
      " [2. 2. 2.]\n",
      " [2. 2. 2.]\n",
      " [2. 2. 2.]\n",
      " [2. 2. 2.]\n",
      " [2. 2. 2.]\n",
      " [2. 2. 2.]\n",
      " [2. 2. 2.]]\n",
      "[[ 0  1  2]\n",
      " [ 3  4  5]\n",
      " [ 6  7  8]\n",
      " [ 9 10 11]\n",
      " [12 13 14]\n",
      " [15 16 17]\n",
      " [18 19 20]\n",
      " [21 22 23]]\n",
      "[[1.000000e+00 2.000000e+00 4.000000e+00]\n",
      " [8.000000e+00 1.600000e+01 3.200000e+01]\n",
      " [6.400000e+01 1.280000e+02 2.560000e+02]\n",
      " [5.120000e+02 1.024000e+03 2.048000e+03]\n",
      " [4.096000e+03 8.192000e+03 1.638400e+04]\n",
      " [3.276800e+04 6.553600e+04 1.310720e+05]\n",
      " [2.621440e+05 5.242880e+05 1.048576e+06]\n",
      " [2.097152e+06 4.194304e+06 8.388608e+06]]\n"
     ]
    }
   ],
   "source": [
    "# when shapes are the same\n",
    "arr1 = arr1.reshape((8,3))\n",
    "arr2 = arr2.reshape((8,3))\n",
    "\n",
    "print(arr1*2,arr2, (arr1*2) ** arr2,sep='\\n')"
   ]
  },
  {
   "cell_type": "code",
   "execution_count": 116,
   "metadata": {},
   "outputs": [
    {
     "data": {
      "text/plain": [
       "array([[ 0,  2,  4],\n",
       "       [ 3,  5,  7],\n",
       "       [ 6,  8, 10],\n",
       "       [ 9, 11, 13],\n",
       "       [12, 14, 16],\n",
       "       [15, 17, 19],\n",
       "       [18, 20, 22],\n",
       "       [21, 23, 25]])"
      ]
     },
     "execution_count": 116,
     "metadata": {},
     "output_type": "execute_result"
    }
   ],
   "source": [
    "# Broadcast\n",
    "arr = np.array([0,1,2])  # arr = [1,2,3]\n",
    "\n",
    "arr + arr2"
   ]
  },
  {
   "cell_type": "markdown",
   "metadata": {},
   "source": [
    "* pandas\n",
    "  * Series\n",
    "    * Composition : name, dtype, index, values\n",
    "  * DataFrame\n",
    "    * Composition : index, columns, values -- set of Series"
   ]
  },
  {
   "cell_type": "code",
   "execution_count": 28,
   "metadata": {},
   "outputs": [
    {
     "name": "stdout",
     "output_type": "stream",
     "text": [
      "A    89\n",
      "B    88\n",
      "C    87\n",
      "D    91\n",
      "Name: Scores, dtype: int64\n"
     ]
    },
    {
     "data": {
      "text/plain": [
       "A    89\n",
       "B    88\n",
       "C    87\n",
       "D    91\n",
       "Name: Scores, dtype: int64"
      ]
     },
     "execution_count": 28,
     "metadata": {},
     "output_type": "execute_result"
    }
   ],
   "source": [
    "# creation\n",
    "# using two lists\n",
    "s = pd.Series(data=[89,88,87,91],index=['A','B','C','D'],name='Scores')\n",
    "print(s)\n",
    "\n",
    "# using dict\n",
    "pd.Series({'A':89,'B':88,'C':87,'D':91},name='Scores')\n"
   ]
  },
  {
   "cell_type": "code",
   "execution_count": 30,
   "metadata": {},
   "outputs": [
    {
     "name": "stdout",
     "output_type": "stream",
     "text": [
      "88 87\n",
      "89\n",
      "A    89\n",
      "B    88\n",
      "C    87\n",
      "Name: Scores, dtype: int64\n",
      "A    89\n",
      "B    88\n",
      "C    87\n",
      "Name: Scores, dtype: int64\n",
      "A    89\n",
      "C    87\n",
      "D    91\n",
      "Name: Scores, dtype: int64\n",
      "\n",
      "Boolean Indexing: \n",
      " D    91\n",
      "Name: Scores, dtype: int64\n"
     ]
    }
   ],
   "source": [
    "# Indexing\n",
    "print(s[1],s[-2]) # using numerical index \n",
    "\n",
    "print(s['A'])     # using  specified index\n",
    "\n",
    "\n",
    "# Slicing\n",
    "print(s[0:3],s['A':'C'],s[['A','C','D']],sep='\\n') # Mind that Numerical indexing is different from Specified Indexing in the end of Slicing !!!!!!!!!!!!!!!!!!!!!!!!!!!!!!!!!!!!!!!!\n",
    "\n",
    "print('\\nBoolean Indexing: \\n',s[s>89])"
   ]
  },
  {
   "cell_type": "code",
   "execution_count": 31,
   "metadata": {},
   "outputs": [
    {
     "name": "stdout",
     "output_type": "stream",
     "text": [
      "A    89\n",
      "B    89\n",
      "C    89\n",
      "D    89\n",
      "Name: HU, dtype: int64\n",
      "   HU   DU\n",
      "A  89   98\n",
      "B  89   99\n",
      "C  89  100\n",
      "D  89  101\n"
     ]
    }
   ],
   "source": [
    "# Creating a df\n",
    "df1 = pd.DataFrame(data={'HU':[89,89,89,89],'CHEN':[90,90,90,91],'DU':[98,99,100,101]},index=['A','B','C','D'])\n",
    "\n",
    "# index\n",
    "# columns indexing\n",
    "print(df1['HU']) # 单列\n",
    "print(df1[['HU','DU']]) # 多列*\n",
    "# 只用 []  只能索引 “列”，不支持多维（可以做布尔索引\n",
    "\n"
   ]
  },
  {
   "cell_type": "code",
   "execution_count": 144,
   "metadata": {},
   "outputs": [
    {
     "data": {
      "text/html": [
       "<div>\n",
       "<style scoped>\n",
       "    .dataframe tbody tr th:only-of-type {\n",
       "        vertical-align: middle;\n",
       "    }\n",
       "\n",
       "    .dataframe tbody tr th {\n",
       "        vertical-align: top;\n",
       "    }\n",
       "\n",
       "    .dataframe thead th {\n",
       "        text-align: right;\n",
       "    }\n",
       "</style>\n",
       "<table border=\"1\" class=\"dataframe\">\n",
       "  <thead>\n",
       "    <tr style=\"text-align: right;\">\n",
       "      <th></th>\n",
       "      <th>HU</th>\n",
       "      <th>CHEN</th>\n",
       "    </tr>\n",
       "  </thead>\n",
       "  <tbody>\n",
       "    <tr>\n",
       "      <th>A</th>\n",
       "      <td>89</td>\n",
       "      <td>90</td>\n",
       "    </tr>\n",
       "    <tr>\n",
       "      <th>B</th>\n",
       "      <td>89</td>\n",
       "      <td>90</td>\n",
       "    </tr>\n",
       "    <tr>\n",
       "      <th>C</th>\n",
       "      <td>89</td>\n",
       "      <td>90</td>\n",
       "    </tr>\n",
       "  </tbody>\n",
       "</table>\n",
       "</div>"
      ],
      "text/plain": [
       "   HU  CHEN\n",
       "A  89    90\n",
       "B  89    90\n",
       "C  89    90"
      ]
     },
     "execution_count": 144,
     "metadata": {},
     "output_type": "execute_result"
    }
   ],
   "source": [
    "# loc & iloc  ----> 支持slicing\n",
    "df1.loc['A':'C','HU':\"CHEN\"]    # 按 “名” 索引\n",
    "df1.iloc[:3,:2]                 # 按 “位” 索引"
   ]
  },
  {
   "cell_type": "code",
   "execution_count": 32,
   "metadata": {},
   "outputs": [
    {
     "name": "stdout",
     "output_type": "stream",
     "text": [
      "      HU   CHEN     DU\n",
      "A  False  False  False\n",
      "B  False  False  False\n",
      "C  False  False  False\n",
      "D  False  False   True\n",
      "HU      False\n",
      "CHEN    False\n",
      "DU       True\n",
      "dtype: bool\n"
     ]
    }
   ],
   "source": [
    "# 关于逻辑运算  *\n",
    "# ~ 、& 、|、all()、any()\n",
    "print(df1>100)\n",
    "print((df1>100).any(axis=0))  # axis = 0 --> 关于列； axis = 1 --> 关于行"
   ]
  },
  {
   "cell_type": "code",
   "execution_count": 45,
   "metadata": {},
   "outputs": [
    {
     "name": "stdout",
     "output_type": "stream",
     "text": [
      "   Hrq  CXX  Dyf\n",
      "C   89   90  100\n"
     ]
    }
   ],
   "source": [
    "# 实用操作 1  -----> 查找(布尔索引) * \n",
    "# 多条件 一定 一定 一定 【括号】\n",
    "#print(df1.loc[(df1>100).any(axis=1),(df1>100).any()])  # 有门课 有同学 超过了 100分\n",
    "\n",
    "print(df1.loc[((df1==100).any(axis=1)) & ((df1<90).any(axis=1)),:]) # 有门课，有的同学没有4.0，有的同学100分，差异很大"
   ]
  },
  {
   "cell_type": "code",
   "execution_count": 175,
   "metadata": {},
   "outputs": [],
   "source": [
    "# A 股 日度交易数据\n",
    "data = pd.read_csv(r'C:\\DataBank\\CSMAR\\TRD_Dalyr.csv')"
   ]
  },
  {
   "cell_type": "code",
   "execution_count": null,
   "metadata": {},
   "outputs": [],
   "source": [
    "data = data[(data['Markettype']==1) | (data['Markettype']==4)].copy()  # 布尔索引"
   ]
  },
  {
   "cell_type": "code",
   "execution_count": 200,
   "metadata": {},
   "outputs": [],
   "source": [
    "# inplace *\n",
    "data = data.sort_values(by=['Stkcd','Trddt'],ascending=[0,1],inplace=False)\n",
    "data.sort_values(by=['Stkcd','Trddt'],ascending=[1,1],inplace=True)"
   ]
  },
  {
   "cell_type": "code",
   "execution_count": 217,
   "metadata": {},
   "outputs": [],
   "source": [
    "# about Na\n",
    "data.isna().any() # 查询哪些列是否存在缺失值\n",
    "\n",
    "data[data.isna().any(axis=1)] # 查询在哪一行\n",
    "\n",
    "data.dropna(subset=['Stkcd','Trddt'],inplace=False)  "
   ]
  },
  {
   "cell_type": "code",
   "execution_count": 222,
   "metadata": {},
   "outputs": [
    {
     "data": {
      "text/html": [
       "<div>\n",
       "<style scoped>\n",
       "    .dataframe tbody tr th:only-of-type {\n",
       "        vertical-align: middle;\n",
       "    }\n",
       "\n",
       "    .dataframe tbody tr th {\n",
       "        vertical-align: top;\n",
       "    }\n",
       "\n",
       "    .dataframe thead th {\n",
       "        text-align: right;\n",
       "    }\n",
       "</style>\n",
       "<table border=\"1\" class=\"dataframe\">\n",
       "  <thead>\n",
       "    <tr style=\"text-align: right;\">\n",
       "      <th></th>\n",
       "      <th>Stkcd</th>\n",
       "      <th>Trddt</th>\n",
       "      <th>Clsprc</th>\n",
       "      <th>Dnshrtrd</th>\n",
       "      <th>Dsmvosd</th>\n",
       "      <th>Dretwd</th>\n",
       "      <th>Markettype</th>\n",
       "      <th>Trdsta</th>\n",
       "    </tr>\n",
       "  </thead>\n",
       "  <tbody>\n",
       "  </tbody>\n",
       "</table>\n",
       "</div>"
      ],
      "text/plain": [
       "Empty DataFrame\n",
       "Columns: [Stkcd, Trddt, Clsprc, Dnshrtrd, Dsmvosd, Dretwd, Markettype, Trdsta]\n",
       "Index: []"
      ]
     },
     "execution_count": 222,
     "metadata": {},
     "output_type": "execute_result"
    }
   ],
   "source": [
    "# duplicates\n",
    "data[data.duplicated(subset=['Stkcd','Trddt'])] # 寻找 重复\n",
    "\n",
    "data.drop_duplicates() # subset, axis, inplace\n"
   ]
  },
  {
   "cell_type": "markdown",
   "metadata": {},
   "source": [
    "* 数据下载\n",
    "  * CSMAR\n",
    "  * WIND"
   ]
  },
  {
   "cell_type": "markdown",
   "metadata": {},
   "source": [
    "数据操作：\n",
    "\n",
    "单表操作\n",
    "sort_values\n",
    "drop\n",
    "dropna\n",
    "drop_duplicates\n",
    "\n",
    "groupby 与 rolling 、 聚集函数、 nth()\n",
    "\n",
    "merge"
   ]
  },
  {
   "cell_type": "markdown",
   "metadata": {},
   "source": []
  }
 ],
 "metadata": {
  "kernelspec": {
   "display_name": "Python 3.8.9 64-bit",
   "language": "python",
   "name": "python3"
  },
  "language_info": {
   "codemirror_mode": {
    "name": "ipython",
    "version": 3
   },
   "file_extension": ".py",
   "mimetype": "text/x-python",
   "name": "python",
   "nbconvert_exporter": "python",
   "pygments_lexer": "ipython3",
   "version": "3.8.9"
  },
  "orig_nbformat": 4,
  "vscode": {
   "interpreter": {
    "hash": "1c442f56f513d946697b54b9a37b89914a7453601d4cdab64d33f95287da7f98"
   }
  }
 },
 "nbformat": 4,
 "nbformat_minor": 2
}
